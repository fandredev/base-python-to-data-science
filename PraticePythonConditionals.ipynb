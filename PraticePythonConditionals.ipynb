{
  "nbformat": 4,
  "nbformat_minor": 0,
  "metadata": {
    "colab": {
      "provenance": [],
      "authorship_tag": "ABX9TyMWzLvrOfsRI8HDQNzqXPUg",
      "include_colab_link": true
    },
    "kernelspec": {
      "name": "python3",
      "display_name": "Python 3"
    },
    "language_info": {
      "name": "python"
    }
  },
  "cells": [
    {
      "cell_type": "markdown",
      "metadata": {
        "id": "view-in-github",
        "colab_type": "text"
      },
      "source": [
        "<a href=\"https://colab.research.google.com/github/fandredev/base-python-to-data-science/blob/main/PraticePythonConditionals.ipynb\" target=\"_parent\"><img src=\"https://colab.research.google.com/assets/colab-badge.svg\" alt=\"Open In Colab\"/></a>"
      ]
    },
    {
      "cell_type": "markdown",
      "source": [
        "Bruno gerencia um pequeno comércio e quer saber qual produto teve o melhor desempenho de vendas no mês passado. Ele registrou a quantidade vendida de dois produtos: maçãs e bananas. Agora, ele precisa escrever um programa que identifique e exiba qual deles teve maior venda.\n",
        "\n",
        "Crie um programa que receba o número de vendas dos dois produtos e exiba uma mensagem indicando qual deles vendeu mais. Se as quantidades forem iguais, exiba uma mensagem dizendo que houve empate.\n",
        "\n",
        "Saída esperada:\n",
        "\n",
        "![imagem9.webp](data:image/webp;base64,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)"
      ],
      "metadata": {
        "id": "E8vzVPuk99hp"
      }
    },
    {
      "cell_type": "code",
      "execution_count": null,
      "metadata": {
        "id": "j9_Yq3558ZTt"
      },
      "outputs": [],
      "source": [
        "apples_sold = int(input('Digite a quantidade de maçãs vendidas: '))\n",
        "bananas_sold = int(input('Digite a quantidade de bananas vendidas: '))\n",
        "\n",
        "who_sold_more = 'As maçãs tiveram mais vendas.' if apples_sold > bananas_sold else 'As Bananas tiveram mais vendas.'\n",
        "\n",
        "if apples_sold == bananas_sold:\n",
        "  print('Houve empate entre bananas e maçãs vendidas')\n",
        "else:\n",
        "  print(who_sold_more)"
      ]
    },
    {
      "cell_type": "markdown",
      "source": [
        "Camila está organizando um projeto e precisa calcular o tempo total necessário para concluir três atividades: A, B e C. No entanto, se alguma atividade tiver um número de dias negativo, o código deve avisar que os valores inseridos são inválidos e não calcular o total.\n",
        "\n",
        "Escreva um programa que receba o número de dias de três atividades e exiba o tempo total do projeto. Se algum valor for negativo, mostre uma mensagem informando o erro.\n",
        "\n",
        "Saída esperada:\n",
        "\n",
        "![imagem10.webp](data:image/webp;base64,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)"
      ],
      "metadata": {
        "id": "GvtAu1p__h4W"
      }
    },
    {
      "cell_type": "code",
      "source": [
        "activity_a = int(input('Informe os dias para a atividade A: '))\n",
        "activity_b = int(input('Informe os dias para a atividade B: '))\n",
        "activity_c = int(input('Informe os dias para a atividade C: '))\n",
        "\n",
        "days = [activity_a, activity_b, activity_c]\n",
        "\n",
        "\n",
        "if activity_a < 0 or activity_b < 0 or activity_c < 0:\n",
        "  print('Os dias informados não podem ser negativos')\n",
        "else:\n",
        "    print(f'A quantidade de dias do projeto será de {sum(days)} ', end='dias.')\n"
      ],
      "metadata": {
        "id": "hid1ye9a_ps3",
        "colab": {
          "base_uri": "https://localhost:8080/"
        },
        "outputId": "a184711a-9a7d-4e32-dc6d-0e049a0a06a2"
      },
      "execution_count": null,
      "outputs": [
        {
          "output_type": "stream",
          "name": "stdout",
          "text": [
            "Informe os dias para a atividade A: 10\n",
            "Informe os dias para a atividade B: -1\n",
            "Informe os dias para a atividade C: 3\n",
            "Os dias informados não podem ser negativos\n"
          ]
        }
      ]
    },
    {
      "cell_type": "markdown",
      "source": [
        "Lucas trabalha em TI e precisa garantir que a temperatura de uma sala de servidores não ultrapasse 25°C. Ele quer um programa que receba a temperatura atual como entrada e, se necessário, exiba uma mensagem de alerta."
      ],
      "metadata": {
        "id": "7u3DWOdXHBdM"
      }
    },
    {
      "cell_type": "code",
      "source": [
        "temp_actual = float(input('Digite a temperatura atual da sala do servidor: '))\n",
        "\n",
        "if temp_actual > 25:\n",
        "  print('A temperatura está acima de 25. Isso pode ser um problema!')\n",
        "else:\n",
        "  print(\"Temperatura dentro do limite seguro.\")"
      ],
      "metadata": {
        "colab": {
          "base_uri": "https://localhost:8080/"
        },
        "id": "WkHmIH7BHCgO",
        "outputId": "98d2af58-a07d-4523-ea46-92eda920e17e"
      },
      "execution_count": null,
      "outputs": [
        {
          "output_type": "stream",
          "name": "stdout",
          "text": [
            "Digite a temperatura atual da sala do servidor: 30\n",
            "A temperatura está acima de 25. Isso pode ser um problema!\n"
          ]
        }
      ]
    },
    {
      "cell_type": "markdown",
      "source": [
        "Anna Júlia está criando um sistema para calcular o Índice de Massa Corporal (IMC) e fornecer recomendações básicas. O programa deve receber o peso e a altura de uma pessoa e exibir o valor do IMC, além de indicar se está abaixo do peso, com peso normal ou acima do peso. Crie um programa que receba o peso (em kg) e a altura (em metros) e calcule o IMC usando a fórmula: IMC = peso / (altura ** 2) Depois, exiba o valor do IMC e uma mensagem indicando se está abaixo do peso (IMC < 18.5), peso normal (18.5 <= IMC < 25) ou acima do peso (IMC >= 25).\n",
        "\n",
        "Saída esperada:\n",
        "\n",
        "![imagem12.webp](data:image/webp;base64,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)"
      ],
      "metadata": {
        "id": "gPDU3l5wILQl"
      }
    },
    {
      "cell_type": "code",
      "source": [
        "weight_person = float(input('Digite seu peso aqui: '))\n",
        "height_person = float(input('Digite sua altura aqui: '))\n",
        "\n",
        "imc = weight_person / (height_person * 2)\n",
        "\n",
        "print(f'\\n')\n",
        "\n",
        "if imc < 18.5:\n",
        "  print('Abaixo do peso')\n",
        "elif imc < 25:\n",
        "  print('Peso normal')\n",
        "else:\n",
        "  print('Acima do peso')\n",
        "\n",
        "print(f'Seu IMC é de {imc:.2f}')"
      ],
      "metadata": {
        "colab": {
          "base_uri": "https://localhost:8080/"
        },
        "id": "R3i5drr8ISeW",
        "outputId": "80da61c7-cd2f-4d1d-ef47-104d25b4ff8e"
      },
      "execution_count": null,
      "outputs": [
        {
          "output_type": "stream",
          "name": "stdout",
          "text": [
            "Digite seu peso aqui: 70\n",
            "Digite sua altura aqui: 1.70\n",
            "\n",
            "\n",
            "Peso normal\n",
            "Seu IMC é de 20.59\n"
          ]
        }
      ]
    },
    {
      "cell_type": "markdown",
      "source": [
        "Carlos quer monitorar seu orçamento mensal para evitar gastos excessivos. Ele estabeleceu um limite de R$ 3.000,00 para seus gastos e precisa de um programa que ajude a controlar suas despesas. O programa deve receber o total de despesas realizadas e informar se ele ultrapassou o limite ou ainda está dentro do orçamento.\n",
        "\n",
        "Saída esperada:\n",
        "\n",
        "\n",
        "![imagem13.webp](data:image/webp;base64,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)"
      ],
      "metadata": {
        "id": "VokiYV7LJfSY"
      }
    },
    {
      "cell_type": "code",
      "source": [
        "total_expenses = float(input('Qual o total de despesas desse mês? '))\n",
        "limit_month = 3000\n",
        "\n",
        "if total_expenses > limit_month:\n",
        "  print('Atenção! Você ultrapassou o limite do orçamento.')\n",
        "else:\n",
        "  print('Show! Você ainda está no limite de orçamento do mês')"
      ],
      "metadata": {
        "colab": {
          "base_uri": "https://localhost:8080/"
        },
        "id": "z44jkDTFJo0O",
        "outputId": "bc64f8cb-e9cd-4c10-f09a-621eb7296f9b"
      },
      "execution_count": null,
      "outputs": [
        {
          "output_type": "stream",
          "name": "stdout",
          "text": [
            "Qual o total e despesas desse mês? 3001\n",
            "Atenção! Você ultrapassou o limite do orçamento.\n"
          ]
        }
      ]
    },
    {
      "cell_type": "markdown",
      "source": [
        "Mariana é responsável por liberar o acesso ao escritório e precisa de um programa que verifique se os funcionários podem entrar. Para isso, ela usará o horário atual. O escritório só permite acesso entre 8h e 18h. Crie um programa que receba a hora atual como entrada (em formato de 24 horas) e exiba uma mensagem informando se o acesso é permitido ou negado.\n",
        "\n",
        "Saída esperada:\n",
        "\n",
        "![imagem14.webp](data:image/webp;base64,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)"
      ],
      "metadata": {
        "id": "8malgsQUKKue"
      }
    },
    {
      "cell_type": "code",
      "source": [
        "hour = int(input('Digite o horário de entrada dos funcionários: '))\n",
        "\n",
        "\n",
        "if hour > 24:\n",
        "  print('O horário não pode ser maior que 24.')\n",
        "\n",
        "else:\n",
        "  if hour >= 8 and hour <= 18:\n",
        "    print('Acesso permitido')\n",
        "  else:\n",
        "    print('Acesso negado')"
      ],
      "metadata": {
        "id": "CYhB_FvrKWC0",
        "colab": {
          "base_uri": "https://localhost:8080/"
        },
        "outputId": "01846f16-71bc-4cb2-dbcc-a4156ea8af70"
      },
      "execution_count": null,
      "outputs": [
        {
          "output_type": "stream",
          "name": "stdout",
          "text": [
            "Digite o horário de entrada dos funcionários: 30\n",
            "O horário não pode ser maior que 24.\n"
          ]
        }
      ]
    },
    {
      "cell_type": "markdown",
      "source": [
        "Uma professora precisa de um programa que ajude a calcular a média final dos alunos e informe se foram aprovados, ficaram de recuperação ou reprovados. As regras são:\n",
        "\n",
        "Média >= 7: Aprovado\n",
        "5 <= Média < 7: Recuperação\n",
        "Média < 5: Reprovado\n",
        "Escreva um programa que receba três notas como entrada e calcule a média final. Com base na média, exiba a situação do aluno.\n",
        "\n",
        "Saída esperada:\n",
        "\n",
        "\n",
        "\n",
        "![image.png](data:image/png;base64,iVBORw0KGgoAAAANSUhEUgAAAbkAAAB7CAIAAABmYWl0AAAZ8klEQVR4Ae1dTY8cNRN+/0p+z86fmKBwIBELkZDgAogDioi48RWtxAUOIBSE4MBl0XKBG3AB5QLRZhMUkEgCEiByybxy2WVXuexud+/MbE/vM5dx2+Vy1WP76XJ/uP/34MGDe/furfADAkAACACBOgL/A1fWwUEJEAACQCAgAK7EUAACQAAI9CMAruzHCBJAAAgAAXAlxgAQAAJAoB8BcGU/RpAAAkAACIArMQaAABAAAv0IgCv7MYIEEAACQABciTEABIAAEOhHYAxXPnz48IsvvvhsyO+rr776999/+82BBBAAAkBgkggM5srHjx8///zzy+G/N954Y5IIwCggAASAQD8Cg7ny+++/Xy6Xzz333LUhv8uXLy+Xy4cPH/ZbBAkgAASAwPQQGMyVX3/99XK5/OCDDwb5cv369eVyefv27UG1xgsf7l+4cOHC3sHJUBXHBwtXc/9oaMXdkt+QmxtSu1vYwtqZIjCYKx89evTOO+989913gwD55ptvPvvss0ePHg2qNV54E1xJRLB/ON6oCdXcEKltSO0mgJtTb24CH+g0CAzmSqMhZPz8889Pnjypla4x/+iqC/zEb3FwvEb1dVWYXXVsdq9k2715RCsdMWwvXGg7754c7I2otXsdMn2L18OVv/zyy1NPPfXJJ59swWHHlWJxfXLDLZoXNwavtgebuu3ZNdhAVBiAwLZ703Hl6UepH+1tJDsADIi2ILAervzyyy/9jfGjo41f6Mu4crVaUaTJ0aVfffsz8dWCMSYsvXDBi9HkCWdwwcWsX53b/YEcsn4Q+/xBU0LZUzK42Iuu1tWjlbBZGEORiC5NJokq8pTjWnHQ7R8Fgf2jFUc0wqqqmx1qvZ6aPa5hbojgS6YWPU+Zjn32D1fCpOwqswzleHiE0dLdm732kGY9SJJd5dR6uHK1WpeespXI7UBgPVz55MmTt956a7lcXrx48datW769//777+2335Z3y69fvy4PP/zwww7LakWOJrJhShNVzzHmC62FiIlnFLGqruWkC/q9EmpFUFJSrdQWjEmSWerkxiIp9HQjiCkTlofUooun/fUH4otIB3Gqcw55mhoiRQU3ndhisbd/5Cfk3mJx44Q0B8Ra3CyoTVRYtufoKucHvm6Mv5gKA2LkdRwYunM9nyoEunqzzx5SHsGX/VJPr4vj1qWnbilKKggM48offvih9gT6zZs3n3766eVyeeXKlT/++MM39+uvvz777LPxWcxLly7F9CuvvPL3339XrOrKLszGAssUuTIbZ3p2cZsF/b6oNrtMvuQX1tr0r8ioswZJiimtwg3PlXxKcHoyxynLnnISvzh5f0JKLNzmZgm9JnvY3XKncKn8T0b6XAE7KVFnHaPWuCNVi7Sp6MrypoV8LUlVRDiriLtWyeS3jxBTFRmnRWAYV77//vuR7DoSr776arTr7t27V65c8cIXL170idFEWYn7aCDauaFyVn7FKgJJO6Oc1aXZTt5UZpeYouw0BWgj7jgVVLHK7N8YKX0pTu9MQcnNZHbCM3JlwbYkn5Qbw3iJHSO+JFtOlTQUJZ2Rojf9YpzOENRTssgZ4a5ri/NHpTdtS8322KrVHDJGGV8VpQJnQ/jJE2R3JZSuGYGNcOW3334rzbx79+4zzzwTufWll176559/pMCgdGHs0rh31+/ST3JHyqUxxxOGwih7ei/o9woqs0uMYx7P7r9xTOfhhprPyfA8ZYyU/m6EKxvdNIY1cKXvPgleE7H2cGXWs5H0A5SV3nSlI+3J+6jzuKmPChq8bWqoF6SQtQkEhnFlhwW//fabJ8RPP/3Uit25c+fy5cuXLl164YUX/vzzTyvQnlOYjQXWk9wRdVOmmJPZdPJyBf2+oDK78oAlttafIKIUvNCuyhgp/W2ah0aDv7fjKZ4MowkZKabRtoJaf71SuKmAMZO/pEHV4IMRXMmnSSbEwgAYbw/b1fbv3JRxblutQoDcXBGCp0RgPVz5119/vfjii8vl8t13360ZdO/evTfffPP333+vCTTmm7nkGVBMA6dIcgcrLq0ZuSz9G/2xKJ+coaBNbdSSEobiG/mocKFA8fhGuJLukvcHyyX0uuyJXBxhKWmIhTKRd4dAz/a+zcmre9Vt9ri6+Q1GaVp/mjRk4SGNh161ws3+ZiCxRgTWw5WHh4fL5fLll19+/PjxGo0rqtJzieZA4bFeOzfC2qoQSuhmtH5Z5tvKSJl5eUSMoEMY1677Wf3ShpDWRpJhKXDLDgvVC2wb7kFX40p+sqfHPG2Yb7rTHiIIvrboEW6koZzsFIno85BlwKo7LfZ4Umu9zGLx927mSPIA6DwhKfOsZuRsEIH1cOVqtXrvvfcePHiwQUtZNQ8pXkvrk3Ne6umHX0ykOcMV/T9TTKFI3zqg9ikcYAWSdvN2tVVsu/kPs85pzB7QMaIqo7O5Lm7qctMZ08GVzoBau11qu9fg4a5LwHT/sHTTSbkeDzq5kh8/in0lL2azinJvSl8q9lBFHjmsrfPfnxfZGn1tnSv6wZCrVUY2nkpZI/7XicDauHKdRm1Gl58DkuDCVfxGXtuMVeO0Os7KJ9U4TagFBIBAEwKDufL27dvXrl27efNmk3oW+vjjj69du3Z8vJ03t7lV/U8xUbbwoZM2uFIDhSMgAAQsAoO58scff1wul6+//vqtIb/XXnttuVz+9NNP1oKt5di40q8oVaS5NWtO1xDiytPhh9pAYDACg7ny/v378UnJQYmLFy+e8mmhwc6ZCvJSFF07ysJMU2GqGeDKqfYM7JotAoO5crVaffTRR4NY0gt//vnns0URjgEBIDB3BMZw5Wq1un///pAl+K07d+7MHUn4BwSAwJwRGMmVc4YEvgEBIAAEDALgSgMJMoAAEAACBoGZcmX5sV7jvc0Izwzv6j0f69DZ5Kh3Ls/GBLQKBNaLALhS49nBlZj/Gqquo0lg5R6e5bcnu4xFGRBoQWD3uNI/FBnfFuPX8lqcPZ3MJOb/6VzYWu1JYHU2XCmfS2tiasJKjGdO7uArElsbX2fS0G5ypXi9zw/NpkF5SoAnMf9P6cO2qk8Cq+1zJb0GJgbnSLgngd5I22dcbee5kjd04N1ZxG4UxR0KTFi6k98mcyNSxSPmAmsHDqqij2ICevkj7nLSurQTSwDmpEBMwVGR2zGJtyzhPuKy5ojJtaU/aiZ18maOuVoZ2XGZ+1cnVIlPaW8ncpMHVRsB5Oi11bJS1LTpUCuHnO0iMAeuNB+H4H3SzJxUo5Bmi5o/BH11xEvi0J2k1JKYVatrhKPR3ybLXT4+WAhniSziPCcKi6XKvHxzsNx36TKlBeN0qM23vxvtJgGb9qnTfmXG25jO5ZQ7QsGV6fFdQ9pq1Yt9KbEqCjRmqg5qrAOxbSAwH67UUSRNgEgQAcls8pBMHhzV9wSrTQaTT1N6TFygOLe79x3RRzbMRDM35Ybn5rMzdMKIwVo/VwpIpbBMO2sMJtLEdjdJUrgp1VoEtC+r0hfZpBkpnVd0JXnTSbqS8vYcHrjP1YffhsdAxRBkbwiBWXCl/66emMblfdFppolAo8ing7mywIx2Grf1XkFVrSL5UqZL27qgmJyntLArlScPUdHSnxA27CwrGhfa3RRNkBahNnfElWdmZIfGjpgh1Ma8oQlySqJXDFf7tJIlYoj2yaN8iwjMgitphDXElT5Y4LO9owl1Tc3Dns/P2BmVGUWTliOJ9C+ioaihkHDzWf/YvIJwliXrplph0mqlyVM1G/PIOvdduizTZIgQNqyUC0tTvWXJ4MwreSiaoGyhNi9y5dRKOmUaq4RqV13/YnAtpAYkCXbd6cLaRkVkVRMyjQohtkYEZsGVBdYrxoz+VJ+mSHF6lCYhAV4Z+u1Rkuk2mtsijhupitxPO2brUDFvNAgzCKL1sPCUOdJlmSalAijDSkp4vJuiibwL8iJXnpmRHSYkXF15BUNZm8SGpSzsQ9WSPILKYbBvUXoGXFlc7JS40o7mEtClSejlKnOvTW2hKaItydcjuVJ9Kqf7WmEJFmFZ5jvZw6G3mflCOFdLZMQVT+GmaIKslDZY2POc3Cp2lLg7hZ9lxMgFHSdy/fK/tM1L5PbwLcfSaiacqEp35MvNIXfrCOw6V9J8KAy+0jyxo7kEdz4/k4xvyy6RavmpZjlF9sRLB55fUnhYrhNy1Z3lcCMiGdYxz+veOc1EjoEgPFFmi3fJ7FJVXnFvsYidcgo3ZRPOPtWDBHuKgg0DVu/P6P4iKk9uBoBJ26D74HkvFOzx9ruQXjK1b5FcQ1AZ4J/k325yJa8g7bAjmpDFLh1neJz/SYInW6GoMFXCFPLVo1oOCpLWwmQodj9P1KHfJstbZC9iI7k7SUC50OWIq+KEg5uKp1w7GZEl5B0RiIr6M2GDP8GWLM+4MoVp3osS0XhaDP0iBAQIewcnxjWGd0hcSdAnEAqDJxksR47vMqo4uLnY3UhsAYHd48rRoHj6UMOUJkkrr41ueEIViSMk+1SDrwkZDVOAwBQQOEdcSafutFAl9Ik77IJoCj2zCRtKCz06hSCi2QTc0DkrBM4RV9q40q+YVKQ5q861zpi40kfWOtK01ZADBIDAOeJKvnchriqex9uO4lIdISGu4mE6AAEgUEXgfHFlFQYUAAEgAAQ6EQBXdsKDQiAABIAAIQCuxEAAAkAACPQjAK7sxwgSQAAIAAFwJcYAEAACQKAfgZlypX8fZsSjMP4ZmvN4f7x/rPRLAL1+jCCxqwiAK3XPdcx2KprQw5hTs4ff1258pV3jvvWjCaK3dQzQ4CAEdo8r5Su3/gHBg+NBLo8Vntrsmpo9Y3E9m3pngJ56OV3tqdwFga4VX8/vqoKyjSCwm1wpFtf+bZxtPFB9BrOrs8unZk+nsZMr3DZ62du05gWqNoDsu2dt9SC1BgR2nivzLWHEzj3FTTFMWMobZNHkCe/0CC5m/fJtn5CW63E/iH3BIOJW9rS9ma6qCLukPasaDi7fvf0tlGTvyPud2YLezJeqm3X00vc8hIxWq0InXdQxxB3d7B9KazNH5BtK6YV34bjATsVrvfYMZzqGPfpDSGYGx8KOhGu6GaIOPSgajMAcuNJvC6gHEA13Qz00T3iAEpvoWg4+J6O5MoBaj0SUWhKzaos9o7ah9FRibC5WdJl1e2geRnagiR3VRg4NOQRU8tfTRKy7OrmxHy9xtLhZQi9SD6slGyKzH13lfN69rQ09psKiI7pzPcXHFrvR67cnYCjMrnYSF2iXu4YZ16j8gysrwGw+ez5cqaPIIldm4yyjiQB2abZTUY2bTP7YkEF/Dqi37027XCNzU33H0cebkoyUtW5KVyjANKcqxrYLZxrPlXyKcpLGQq4egtDE3anApJwSeVYT9tjeN31t3DH6fYap6LLzpit1VTadaUJISOkKzqpSfkAVJZK5AI43h8AsuNKP3Rg6ObTsbAmBmKCJkszwuFJMUe6mDsZhkeJ/QVVRzmfWZrttXUqaAEe2UD1PhC3T9Sy1DZXRK9KNbFalO2xQcoZwE3rkr+hoVy+Vei0SE603O2q2J6tXOiTwaeWvkSzJyjyiSH/FYAzDSlVIj0ZgFlxJ474hrtSBW4U1qnOjMrvEOJbXvxrHNEUosl77o50Ve4gUlEZ/EFagFa9pAJVPHn5sNbpZQq+PK333SZOb40pJiIkNS8hQqeiUkkyYRSPt6ZmDHkDqBQJk3GVHb5sKC3raRfG6EJgFVxbmf3HahzEaZ6W6gMWIlmY7lVVmV5qirKH5P1/KDVNVsYdW2YIUMmsKWCWJqu82LkuVVKqkoZMrzeQvaVBN8IFDbyBXimiuht54e9iu0j/1LH+NgwScm7XLHSUNMW/YIInVkDg1AjPgSs+AYho4UEpc6WiiTiIMZX2u5pMz1GhTy+rFv6GtgdOgYk+NBXzLplFhkPo2mcx36TY3S+h1cSW5rDqlpCG3hY5z9wV6tvdtTl7dt9Fmj6srL5UW7ZOZlhmpIcWe4dGFvphauClbQHrjCOw6V9IcUA98eMjs3Oi6cSxhrs9V31ZGyszL7Wvn2JgOYWg6uQ+pHUWBnkTNHn+pQRFQ0tTJleGuhbBB3AevNpeUj7heSfZweOibaKShnOwUiWg3LQOGs6nwNHjRYg/JtJx3EzK+Slo7E9vq1nkAVDrO61LmJfVIbQGB3eTKuIo2nw/lAScl0tnbn8xVGZ/GC0V6iUed4Yd4UCCX8Hm7aVZ0dmKYdU7hoA8cstKqPbk77KYPXqTlrCr+M2GRl8xiobTmZt6cqksKowGxHU7IuvuH9We2WJ7/O7mSHz8KXaVZSWpggfIgqdhDsNc9Yv36X/S1a9RW9wJ5vuriIadS3TqOTo3A7nHlaJf9nFQ0oSO70ZpREQgAgdkjcI64kmKibIVLJ+3GGHD2YwEOAgEgUEfgHHGljSv9ilJFmnWkUAIEgMB5RuAccSU/kByvUA26kXKeBwl8BwJAYHW+uBIdDgSAABAYhwC4chxuqAUEgMD5QgBceb76G94CASAwDgFw5TjcUAsIAIHzhQC48nz1N7wFAkBgHAJz5kp+IaT60ph7Zih7TcI/nV5+zWMcwqgFBIDAHBCYK1f6N8OqLOm7Dlw5hyEMH4DAVhDYPa40D5CH95dHPFJe4MqtgJ41wvGve/Aze/86kwyHIfiVD4pSml5AktqkxAh8yq0jFwicSwR2lSvTzr5MHCO4YAJcOWoXBjtSCYQaAsSe2cudVgVygAAQ6EJg57jSRZGLGwf7fEnx5MaCDtM+MbyxmA+qco7Iw654vZI511WLmRI6tU9MrjZ8baphf0ypcl1kTbF2wSRqC++8S8iRBgIjEdhRrjw5uuqXq0dEmp5ATxwGRHlxJZuRSOHQ0GKZv44PFmmLDb/qz7jJXyFtW0T7zuoMBgf0p3Y5q0jnhp7rtlkVHAIBIGAR2FWudPsw7h2cHO7TYjxxpWE6R2GBOg03GWGHTzEzB45izGzN6yoOiiudksXB4cEiXVbM+DdvtnhM7dYqIqgsYoZMIDAYgZ3jSjf5iaRODvYWi72YjmEmM2OAgmLAdNNDcUqRFouZOa6GdnOBhuNwNSAFtsVwtU8Rgso+hFAOBNaCwO5yJX0cJhANEyIRR4rSYmodXEnhW9ToEllcObQ/Cqvj4RSMoHIo7JAHAuMQ2GGuFA4zV5pvRgsZ84XoynK7GFcSJYmrfsNJTVoS0n4NfixKhqol+XhxVihyyQIXZxI4BAJAoBmBXePKMptEroyJEgAZN5Eqe8u7xJXmql/JjJxPSyaoPKsks9BJk0eVGJZaVFcVhH5jsyhDEggAgaEIzIMrxQ0ZRzfZJcuIiaQPl17sLdq40hMWsxI1YdbgpLzadLRBJTTZSfNYzBO6+QSbK6YiBJWMFP6BwGYRmB1XMomIK4v52pmKXKZbpfKtlXCnRVTTnBuo0JXvHZzYkNCv6AfdB6eeJboMrZaIrxpXdoaxZC27ttkRBO1A4HwgsGtceT56BV4CASAwNQTAlVPrEdgDBIDAFBEAV06xV2ATEAACU0MAXDm1HoE9QAAITBEBcOUUewU2AQEgMDUEwJVT6xHYAwSAwBQRAFdOsVdgExAAAlNDAFw5tR6BPUAACEwRAXDlFHulwab4bDy9TXR8sMCT5w2oQQQIjEYAXDkaujOtGDbu9BtkuNd+Su/8nKmFaBwIzAuBHeTK+Io0v48ImpjXmIQ3QGCKCOwqV8a9I/173KDLKQ4u2AQEZoTAznNl+BKZuloXr+W5zYCO8t4Ku1FQVJq21SDOlcJOSaRgt1HF1SO/tY8PZyNZe/Vy641YyxXxNmtijwzZCu2QxAEyfQ8jM7fuC293RLWVTt68kvWmLwVlynEIBIBAKwJz4cpIB3qnMmIowSN+/Z6I9eTg6gF90szuBGy40jFP4FZixsSzqhVtAHElcVawkJiaDTi5sUic622LjgSeJY4OvXm0H0u7vpWmd5Cj/Y/jdkqt4wJyQAAIaAR2nit9vBYZxx0yE5GnhvJUaQKjP65koszVEsdFAzimY4I2+2mahpINinP9Lr+RHJNUKUWtBBs4kk1ysjTlIgUEgMAABHaVK3l5ma2yFTMSDBRkBcaxpQkpQ2FK2FBwUmsqpnW30z6Ep5QqQ8HJVpsSwppwvajyxdZGDhAAAr0I7CpX+hiKyCVdVZTXEwWZ8jJWEIrFRfGUK1b80sGVxE2qNTrgFXoPV7pW9E8GpKzEmhu2FlZVPSbG1OBL6WJoSS/ygAAQKCGw21zJn6NhftEEZ/xV9JeVjuZKU1Er7uJKIkpxTUCp6mR2ImjBpEK4xpXqjpO2EUdAAAj0IrDrXBkWuUwEaWlc8pxKBTdJGcVTvHZmteJ7Pr6O4KZ4p1tqS+kOrjRF2gZi0vL1SlPUbY9rSBBrMg4pIAAEWhHYfa4MXzrk0JIIKHJcDgOVitVoug+uLix6seyZoUSyGefSYeHhJGqcVMk7P8kkIrhoDK/l2ZHw0VpxhWEV74PrFtlabiUzzxBrsgApIAAEWhGYAVdmoWX4wKG4kqdDKs9QoVgVUVjnC/aPiIIj5zKRsVYT7lUFOriSo1evdHHjRMeVrguFSYW7WMGawrfSPJmG8uhF66CAHBAAAgaBHeRK48MWMkoXAbfQLDXh2FZx+rYaRjtAAAgkBMCVCYuO1BlypQst0/K/w0YUAQEgsEEEwJVN4J4hV7qmzZK/yWgIAQEgsD4EwJVNWJ4hVzbZByEgAAQ2jAC4csMAQz0QAAKzQABcOYtuhBNAAAhsGAFw5YYBhnogAARmgQC4chbdCCeAABDYMALgyg0DDPVAAAjMAgFw5Sy6EU4AASCwYQTAlRsGGOqBABCYBQLgyll0I5wAAkBgwwj8H52Zh6N90oG3AAAAAElFTkSuQmCC)"
      ],
      "metadata": {
        "id": "EcEiz80CMV-L"
      }
    },
    {
      "cell_type": "code",
      "source": [
        "first_note = float(input('Digite a primeira nota: '))\n",
        "second_note = float(input('Digite a segunda nota: '))\n",
        "third_note = float(input('Digite a terceira nota: '))\n",
        "\n",
        "\n",
        "media = (first_note + second_note + third_note) / 3\n",
        "print(f'Sua média foi: {media:.2f}')\n",
        "\n",
        "\n",
        "if media >= 7:\n",
        "  print('Aprovado')\n",
        "elif media >= 5 and media <= 7:\n",
        "  print('Recuperação')\n",
        "else:\n",
        "  print('Reprovado')\n",
        "\n"
      ],
      "metadata": {
        "colab": {
          "base_uri": "https://localhost:8080/"
        },
        "id": "9fqdvKLbMZuY",
        "outputId": "0398f1c9-34b7-403b-bbb3-02891a917b3c"
      },
      "execution_count": null,
      "outputs": [
        {
          "output_type": "stream",
          "name": "stdout",
          "text": [
            "Digite a primeira nota: 5\n",
            "Digite a segunda nota: 5\n",
            "Digite a terceira nota: 10\n",
            "Sua média foi: 6.67\n",
            "Recuperação\n"
          ]
        }
      ]
    },
    {
      "cell_type": "markdown",
      "source": [
        "Fernanda está planejando uma viagem e quer calcular quanto pagará de pedágio. O valor do pedágio depende da distância percorrida:\n",
        "\n",
        "*   Até 100 km: R$ 10,00\n",
        "\n",
        "*   Entre 100 km e 200 km: R$ 20,00\n",
        "\n",
        "*   Acima de 200 km: R$ 30,00\n",
        "\n",
        "\n",
        "Crie um programa que receba a distância percorrida e informe o valor do pedágio correspondente.\n",
        "\n",
        "Saída esperada:\n",
        "\n",
        "![image.png](data:image/png;base64,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)"
      ],
      "metadata": {
        "id": "Oufd3SAENneS"
      }
    },
    {
      "cell_type": "code",
      "source": [
        "value = float(input('Quantos KM você percorrá? '))\n",
        "\n",
        "if value <= 100:\n",
        "  print('Você pagará R$ 10.00 de pedágio')\n",
        "elif 100 and value <=200:\n",
        "  print('Você pagará R$ 20.00 de pedágio')\n",
        "else:\n",
        "  print('Você pagará R$ 30.00 de pedágio')"
      ],
      "metadata": {
        "colab": {
          "base_uri": "https://localhost:8080/"
        },
        "id": "MRT_LgcmNrCN",
        "outputId": "2294b4f3-d58d-4701-987d-fe2a2d362d83"
      },
      "execution_count": null,
      "outputs": [
        {
          "output_type": "stream",
          "name": "stdout",
          "text": [
            "Quantos KM você percorrá? 99\n",
            "Você pagará R$ 10.00 de pedágio\n"
          ]
        }
      ]
    },
    {
      "cell_type": "markdown",
      "source": [
        "Lucas está desenvolvendo um jogo e precisa de uma funcionalidade que verifique se um número é par ou ímpar. Essa verificação será usada para definir ações diferentes dentro do jogo. Escreva um programa que receba um número inteiro e exiba uma mensagem informando se ele é par ou ímpar.\n",
        "\n",
        "Saída esperada:\n",
        "\n",
        "![image.png](data:image/png;base64,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)"
      ],
      "metadata": {
        "id": "aZh6NDwdOy01"
      }
    },
    {
      "cell_type": "code",
      "source": [
        "number = int(input('Digite um número e descubra se ele é par ou impar: '))\n",
        "\n",
        "if number % 2 == 0:\n",
        "    print(\"O número é par.\")\n",
        "else:\n",
        "    print(\"O número é ímpar.\")"
      ],
      "metadata": {
        "colab": {
          "base_uri": "https://localhost:8080/"
        },
        "id": "UFNPL-BrOykC",
        "outputId": "95f3d99e-0ec3-4cd3-99df-f51a49a50e84"
      },
      "execution_count": null,
      "outputs": [
        {
          "output_type": "stream",
          "name": "stdout",
          "text": [
            "Digite um número e descubra se ele é par ou impar10\n",
            "O número é par.\n"
          ]
        }
      ]
    },
    {
      "cell_type": "markdown",
      "source": [
        "Pedro quer solicitar um empréstimo, mas a aprovação depende de duas condições:\n",
        "\n",
        "O valor da renda mensal precisa ser maior que R$ 2.000,00.\n",
        "O valor da parcela não pode ultrapassar 30% da renda.\n",
        "Crie um programa que receba como entrada a renda mensal de Pedro e o valor da parcela desejada. O programa deve informar se o empréstimo foi aprovado ou negado com base nas condições acima.\n",
        "\n",
        "Saída esperada:\n",
        "\n",
        "![image.png](data:image/png;base64,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)"
      ],
      "metadata": {
        "id": "Ma7lACrkPIbc"
      }
    },
    {
      "cell_type": "code",
      "source": [
        "monthly_income = float(input('Digite o valor da sua renda mensal: '))\n",
        "first_installment = float(input('Digite o valor da parcela desejada: '))\n",
        "\n",
        "mininum_monthly_income = 2.000\n",
        "limit = 0.30 # 30%\n",
        "\n",
        "if monthly_income > mininum_monthly_income and first_installment <= monthly_income * limit:\n",
        "  print(\"Empréstimo aprovado!\")\n",
        "else:\n",
        "  print(\"Empréstimo negado.\")"
      ],
      "metadata": {
        "colab": {
          "base_uri": "https://localhost:8080/"
        },
        "id": "z3ojUVZLPKGD",
        "outputId": "0bd0bbec-0bc4-4e7f-cd6e-451fe0f653cf"
      },
      "execution_count": null,
      "outputs": [
        {
          "output_type": "stream",
          "name": "stdout",
          "text": [
            "Digite o valor da sua renda mensal: 9000\n",
            "Digite o valor da parcela desejada: 7000\n",
            "Empréstimo negado.\n"
          ]
        }
      ]
    }
  ]
}