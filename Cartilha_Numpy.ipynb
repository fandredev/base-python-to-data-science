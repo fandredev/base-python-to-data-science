{
  "cells": [
    {
      "cell_type": "markdown",
      "metadata": {
        "id": "view-in-github",
        "colab_type": "text"
      },
      "source": [
        "<a href=\"https://colab.research.google.com/github/fandredev/base-python-to-data-science/blob/main/Cartilha_Numpy.ipynb\" target=\"_parent\"><img src=\"https://colab.research.google.com/assets/colab-badge.svg\" alt=\"Open In Colab\"/></a>"
      ]
    },
    {
      "cell_type": "markdown",
      "metadata": {
        "id": "Hqpc8pmkOXJt"
      },
      "source": [
        "# Numpy:"
      ]
    },
    {
      "cell_type": "markdown",
      "metadata": {
        "id": "9671eoZ1OXJv"
      },
      "source": [
        "Documentação : https://numpy.org/doc/stable/user/absolute_beginners.html#numpy-the-absolute-basics-for-beginners"
      ]
    },
    {
      "cell_type": "markdown",
      "metadata": {
        "id": "9VBpX9JOOXJv"
      },
      "source": [
        "## Instalação:"
      ]
    },
    {
      "cell_type": "markdown",
      "metadata": {
        "id": "my7xzoqKOXJw"
      },
      "source": [
        "Insira o código abaixo no Anaconda Prompt:\n",
        "<b>pip install numpy</b>\n",
        "\n",
        "https://numpy.org/install/"
      ]
    },
    {
      "cell_type": "markdown",
      "metadata": {
        "id": "V63VFOouOXJw"
      },
      "source": [
        "## Importação:\n",
        "https://numpy.org/doc/stable/user/absolute_beginners.html#how-to-import-numpy"
      ]
    },
    {
      "cell_type": "code",
      "execution_count": null,
      "metadata": {
        "id": "9TmR7MyDOXJw"
      },
      "outputs": [],
      "source": [
        "import numpy as np"
      ]
    },
    {
      "cell_type": "markdown",
      "metadata": {
        "id": "h1Uw7ieLOXJx"
      },
      "source": [
        "## O que é um array?\n",
        "Tipos de arrays:\n",
        "ndarrays -> significam arrays com N dimensões<br>\n",
        "1-D array-> Possui apenas uma dimensão. Será comumente chamado de <b> vetor ou vector </b> <br>\n",
        "2-D array -> Possui 2 dimensões. Será comumente chamado de <b> matriz ou matrix</b> <br>\n",
        "3-D ou Mais array -> Possui 3 ou mais dimensões. Será comumente chamado de <b>tensor</b>\n",
        "                                     \n",
        "https://numpy.org/doc/stable/reference/arrays.html#arrays"
      ]
    },
    {
      "cell_type": "markdown",
      "metadata": {
        "id": "3_Rn-eJAOXJx"
      },
      "source": [
        "## Criando um Array:"
      ]
    },
    {
      "cell_type": "markdown",
      "metadata": {
        "id": "uvcvKYE6OXJy"
      },
      "source": [
        "### np.array()\n",
        "https://numpy.org/doc/stable/reference/generated/numpy.array.html?highlight=numpy%20array#numpy-array"
      ]
    },
    {
      "cell_type": "code",
      "execution_count": null,
      "metadata": {
        "id": "qmaMsBZHOXJy",
        "outputId": "abe9ce33-3e48-49fa-ef8a-8df604c642ec"
      },
      "outputs": [
        {
          "name": "stdout",
          "output_type": "stream",
          "text": [
            "[1 2 3 4 5 6]\n",
            "<class 'numpy.ndarray'>\n"
          ]
        }
      ],
      "source": [
        "a = np.array([1,2,3,4,5,6])\n",
        "print(a)\n",
        "print(type(a))"
      ]
    },
    {
      "cell_type": "markdown",
      "metadata": {
        "id": "VFB1KlCeOXJz"
      },
      "source": [
        "### np.zeros()\n",
        "https://numpy.org/doc/stable/reference/generated/numpy.zeros.html"
      ]
    },
    {
      "cell_type": "code",
      "execution_count": null,
      "metadata": {
        "id": "gKzSUbicOXJz",
        "outputId": "39db2152-d5fd-4241-e23d-c54a8b698c89"
      },
      "outputs": [
        {
          "name": "stdout",
          "output_type": "stream",
          "text": [
            "[[[0. 0. 0. 0. 0. 0.]\n",
            "  [0. 0. 0. 0. 0. 0.]\n",
            "  [0. 0. 0. 0. 0. 0.]]\n",
            "\n",
            " [[0. 0. 0. 0. 0. 0.]\n",
            "  [0. 0. 0. 0. 0. 0.]\n",
            "  [0. 0. 0. 0. 0. 0.]]\n",
            "\n",
            " [[0. 0. 0. 0. 0. 0.]\n",
            "  [0. 0. 0. 0. 0. 0.]\n",
            "  [0. 0. 0. 0. 0. 0.]]\n",
            "\n",
            " [[0. 0. 0. 0. 0. 0.]\n",
            "  [0. 0. 0. 0. 0. 0.]\n",
            "  [0. 0. 0. 0. 0. 0.]]\n",
            "\n",
            " [[0. 0. 0. 0. 0. 0.]\n",
            "  [0. 0. 0. 0. 0. 0.]\n",
            "  [0. 0. 0. 0. 0. 0.]]]\n"
          ]
        }
      ],
      "source": [
        "zero_array = np.zeros(shape = (5,3,6))\n",
        "print(zero_array)"
      ]
    },
    {
      "cell_type": "markdown",
      "metadata": {
        "id": "qIESTw1uOXJ0"
      },
      "source": [
        "### np.ones()\n",
        "https://numpy.org/doc/stable/reference/generated/numpy.ones.html"
      ]
    },
    {
      "cell_type": "code",
      "execution_count": null,
      "metadata": {
        "id": "A1JlbKfLOXJ0",
        "outputId": "7e735d3f-7316-4fb1-e59a-ca53b1c64907"
      },
      "outputs": [
        {
          "name": "stdout",
          "output_type": "stream",
          "text": [
            "[1. 1.]\n"
          ]
        }
      ],
      "source": [
        "um_array = np.ones(2)\n",
        "print(um_array)"
      ]
    },
    {
      "cell_type": "markdown",
      "metadata": {
        "id": "VrsfJAmrOXJ0"
      },
      "source": [
        "### no.empty()\n",
        "https://numpy.org/doc/stable/reference/generated/numpy.empty.html"
      ]
    },
    {
      "cell_type": "code",
      "execution_count": null,
      "metadata": {
        "id": "zuag2mA0OXJ0",
        "outputId": "a1c90c0e-e617-4fa6-abb4-7c7803389aba"
      },
      "outputs": [
        {
          "name": "stdout",
          "output_type": "stream",
          "text": [
            "[1.0635808e-311 0.0000000e+000 4.9406565e-324]\n"
          ]
        }
      ],
      "source": [
        "vazio_array = np.empty(3)\n",
        "print(vazio_array)"
      ]
    },
    {
      "cell_type": "markdown",
      "metadata": {
        "id": "sM4GIQSSOXJ0"
      },
      "source": [
        "### np.arange()\n",
        "https://numpy.org/doc/stable/reference/generated/numpy.arange.html"
      ]
    },
    {
      "cell_type": "code",
      "execution_count": null,
      "metadata": {
        "id": "Q5p1Fs9KOXJ0",
        "outputId": "6120de72-efd6-4b4f-b190-6440627990ec"
      },
      "outputs": [
        {
          "name": "stdout",
          "output_type": "stream",
          "text": [
            "[0 1 2 3 4 5 6 7 8 9]\n",
            "[ 3  5  7  9 11 13]\n"
          ]
        }
      ],
      "source": [
        "# Dá uma sequência de números:\n",
        "zero_dez = np.arange(10)\n",
        "print(zero_dez)\n",
        "pula_dois = np.arange(3,15,2)\n",
        "print(pula_dois)\n"
      ]
    },
    {
      "cell_type": "markdown",
      "metadata": {
        "id": "bYc_Ey8DOXJ0"
      },
      "source": [
        "### np.linspace()\n",
        "https://numpy.org/doc/stable/reference/generated/numpy.linspace.html"
      ]
    },
    {
      "cell_type": "code",
      "execution_count": null,
      "metadata": {
        "id": "80SknuO-OXJ0",
        "outputId": "7e835b49-4131-4d19-b315-0f31fb3de1d7"
      },
      "outputs": [
        {
          "name": "stdout",
          "output_type": "stream",
          "text": [
            "(array([ 0.,  5., 10., 15., 20., 25., 30., 35., 40., 45., 50., 55., 60.,\n",
            "       65., 70., 75., 80., 85., 90., 95.]), 5.0)\n"
          ]
        }
      ],
      "source": [
        "array_linear = np.linspace(0, 100 , num = 20, endpoint = False, retstep = True)\n",
        "print(array_linear)"
      ]
    },
    {
      "cell_type": "markdown",
      "metadata": {
        "id": "bzpP6VLMOXJ0"
      },
      "source": [
        "## Descobrindo o tamanho de um array:\n",
        "Número de dimensões : https://numpy.org/doc/stable/reference/generated/numpy.ndarray.ndim.html <br>\n",
        "Número de items: https://numpy.org/doc/stable/reference/generated/numpy.ndarray.size.html\n",
        "Formato : https://numpy.org/doc/stable/reference/generated/numpy.ndarray.shape.html\n"
      ]
    },
    {
      "cell_type": "code",
      "execution_count": null,
      "metadata": {
        "id": "aOyZrx7MOXJ1",
        "outputId": "8859117b-bfe0-4e6b-a311-1e90a4fdc834"
      },
      "outputs": [
        {
          "name": "stdout",
          "output_type": "stream",
          "text": [
            "[[[0. 0. 0. 0. 0. 0.]\n",
            "  [0. 0. 0. 0. 0. 0.]\n",
            "  [0. 0. 0. 0. 0. 0.]]\n",
            "\n",
            " [[0. 0. 0. 0. 0. 0.]\n",
            "  [0. 0. 0. 0. 0. 0.]\n",
            "  [0. 0. 0. 0. 0. 0.]]\n",
            "\n",
            " [[0. 0. 0. 0. 0. 0.]\n",
            "  [0. 0. 0. 0. 0. 0.]\n",
            "  [0. 0. 0. 0. 0. 0.]]\n",
            "\n",
            " [[0. 0. 0. 0. 0. 0.]\n",
            "  [0. 0. 0. 0. 0. 0.]\n",
            "  [0. 0. 0. 0. 0. 0.]]\n",
            "\n",
            " [[0. 0. 0. 0. 0. 0.]\n",
            "  [0. 0. 0. 0. 0. 0.]\n",
            "  [0. 0. 0. 0. 0. 0.]]]\n"
          ]
        }
      ],
      "source": [
        "zero_array = np.zeros(shape = (5,3,6))\n",
        "print(zero_array)"
      ]
    },
    {
      "cell_type": "code",
      "execution_count": null,
      "metadata": {
        "id": "adfust3VOXJ1",
        "outputId": "e864d388-0896-4996-ffc1-d9f104c225d3"
      },
      "outputs": [
        {
          "name": "stdout",
          "output_type": "stream",
          "text": [
            "(5, 3, 6)\n",
            "90\n",
            "3\n"
          ]
        }
      ],
      "source": [
        "print(zero_array.shape)\n",
        "print(zero_array.size)\n",
        "print(zero_array.ndim)"
      ]
    },
    {
      "cell_type": "markdown",
      "metadata": {
        "id": "-XX-xoCEOXJ1"
      },
      "source": [
        "### Mudando o tamanho de um array:\n",
        "\n",
        "https://numpy.org/doc/stable/reference/generated/numpy.reshape.html"
      ]
    },
    {
      "cell_type": "markdown",
      "metadata": {
        "id": "lmfQUlQNOXJ1"
      },
      "source": [
        "### Rankeando um array:"
      ]
    },
    {
      "cell_type": "markdown",
      "metadata": {
        "id": "Zj9--qaqOXJ1"
      },
      "source": [
        "https://numpy.org/doc/stable/reference/generated/numpy.sort.html"
      ]
    },
    {
      "cell_type": "markdown",
      "metadata": {
        "id": "mGpVoM_EOXJ1"
      },
      "source": [
        "## Transformando um Vetor (1-D) em uma matrix(2-D)\n",
        ".newaxis:https://numpy.org/doc/stable/reference/constants.html?#numpy.newaxis <br>\n",
        ".expand_dims:https://numpy.org/doc/stable/reference/generated/numpy.expand_dims.html#numpy.expand_dims"
      ]
    },
    {
      "cell_type": "code",
      "execution_count": null,
      "metadata": {
        "id": "5Yiytqw9OXJ1",
        "outputId": "c7a5e677-4ad9-499d-ca12-8f512386c343"
      },
      "outputs": [
        {
          "name": "stdout",
          "output_type": "stream",
          "text": [
            "(3,)\n"
          ]
        }
      ],
      "source": [
        "a = np.array( [ 1, 2, 3])\n",
        "print(a.shape)"
      ]
    },
    {
      "cell_type": "code",
      "execution_count": null,
      "metadata": {
        "id": "QUEFRvZsOXJ1",
        "outputId": "720d19a6-9d05-4648-cb1a-e26761bf583e"
      },
      "outputs": [
        {
          "name": "stdout",
          "output_type": "stream",
          "text": [
            "(1, 3)\n",
            "[[1 2 3]]\n"
          ]
        }
      ],
      "source": [
        "a2 = a[np.newaxis,:]\n",
        "print(a2.shape)\n",
        "print(a2)"
      ]
    },
    {
      "cell_type": "code",
      "execution_count": null,
      "metadata": {
        "id": "AlDuENWSOXJ2",
        "outputId": "2006bd0e-3337-4f17-f6e8-eda974e1b2fb"
      },
      "outputs": [
        {
          "name": "stdout",
          "output_type": "stream",
          "text": [
            "(3, 1)\n",
            "[[1]\n",
            " [2]\n",
            " [3]]\n"
          ]
        }
      ],
      "source": [
        "a2 = a[:,np.newaxis]\n",
        "print(a2.shape)\n",
        "print(a2)"
      ]
    },
    {
      "cell_type": "code",
      "execution_count": null,
      "metadata": {
        "id": "u9jBdf9oOXJ2",
        "outputId": "eed23dcc-86c9-4679-924a-95c213185d55"
      },
      "outputs": [
        {
          "name": "stdout",
          "output_type": "stream",
          "text": [
            "[[1]\n",
            " [2]\n",
            " [2]]\n"
          ]
        }
      ],
      "source": [
        "a2[2][0] = 2\n",
        "print(a2)"
      ]
    },
    {
      "cell_type": "markdown",
      "metadata": {
        "id": "me1cmZPKOXJ2"
      },
      "source": [
        "### Concatenando arrays:\n",
        "https://numpy.org/doc/stable/reference/generated/numpy.concatenate.html"
      ]
    },
    {
      "cell_type": "code",
      "execution_count": null,
      "metadata": {
        "id": "DsujqWafOXJ2",
        "outputId": "3eadd4e8-18e8-4303-84b9-ab515596dced"
      },
      "outputs": [
        {
          "name": "stdout",
          "output_type": "stream",
          "text": [
            "[1 2 3 4 5 6]\n",
            "[4 5 6 1 2 3]\n"
          ]
        }
      ],
      "source": [
        "a = np.array( [1, 2, 3])\n",
        "b = np.array( [4, 5, 6])\n",
        "\n",
        "c=np.concatenate((a,b))\n",
        "d=np.concatenate((b,a))\n",
        "\n",
        "print(c)\n",
        "print(d)\n"
      ]
    },
    {
      "cell_type": "markdown",
      "metadata": {
        "id": "ZWVAWtabOXJ2"
      },
      "source": [
        "### Consultando itens de uma array:\n",
        "https://numpy.org/doc/stable/user/absolute_beginners.html#indexing-and-slicing"
      ]
    },
    {
      "cell_type": "code",
      "execution_count": null,
      "metadata": {
        "id": "y0kiWZq8OXJ2",
        "outputId": "bdc4fb39-4f14-44d2-b5ee-9ea08611df55"
      },
      "outputs": [
        {
          "name": "stdout",
          "output_type": "stream",
          "text": [
            "[[ 1  2  3  4]\n",
            " [ 5  6  7  8]\n",
            " [ 9 10 11 12]]\n",
            "------------\n",
            "[1 2 3 4 5 6 7]\n"
          ]
        }
      ],
      "source": [
        "a = np.array([[1 , 2, 3, 4], [5, 6, 7, 8], [9, 10, 11, 12]])\n",
        "print(a)\n",
        "print('------------')\n",
        "print(a[a<8])"
      ]
    },
    {
      "cell_type": "markdown",
      "metadata": {
        "id": "gUFReJ3MOXJ2"
      },
      "source": [
        "### Operações com Arrays:\n",
        "Soma : https://numpy.org/doc/stable/reference/generated/numpy.sum.html#numpy.sum <br>\n",
        "Valor mínimo : https://numpy.org/doc/stable/reference/generated/numpy.ndarray.min.html<br>\n",
        "Valor máximo : https://numpy.org/doc/stable/reference/generated/numpy.ndarray.max.html<br>\n",
        "Média : https://numpy.org/doc/stable/reference/generated/numpy.ndarray.mean.html"
      ]
    },
    {
      "cell_type": "code",
      "execution_count": null,
      "metadata": {
        "id": "Jj6LiiUvOXJ3",
        "outputId": "7583906b-e834-4db9-d023-d8feb11c35c5"
      },
      "outputs": [
        {
          "name": "stdout",
          "output_type": "stream",
          "text": [
            "3\n",
            "1\n",
            "2.0\n",
            "6\n"
          ]
        }
      ],
      "source": [
        "a = np.array( [1, 2, 3])\n",
        "\n",
        "print(a.max())\n",
        "print(a.min())\n",
        "print(a.mean())\n",
        "print(a.sum())\n"
      ]
    },
    {
      "cell_type": "markdown",
      "metadata": {
        "id": "UKU59VTrOXJ3"
      },
      "source": [
        "### Gerando amostras aleatórias:\n"
      ]
    },
    {
      "cell_type": "code",
      "execution_count": null,
      "metadata": {
        "id": "Rmre15kwOXJ3"
      },
      "outputs": [],
      "source": [
        "from numpy.random import default_rng"
      ]
    },
    {
      "cell_type": "code",
      "execution_count": null,
      "metadata": {
        "id": "07xqU_5kOXJ4",
        "outputId": "99facdef-dcc6-410d-8a3b-6ec063b43aef"
      },
      "outputs": [
        {
          "name": "stdout",
          "output_type": "stream",
          "text": [
            "[[0 2 0 4]\n",
            " [8 5 3 2]]\n"
          ]
        }
      ],
      "source": [
        "rng= default_rng()\n",
        "aleatorio = rng.integers(10, size=(2,4))\n",
        "print(aleatorio)"
      ]
    },
    {
      "cell_type": "markdown",
      "metadata": {
        "id": "ffn6w02xOXJ4"
      },
      "source": [
        "## Diferença entre Arrays e Listas:"
      ]
    },
    {
      "cell_type": "code",
      "execution_count": null,
      "metadata": {
        "id": "0B0MhWZhOXJ4",
        "outputId": "e2c2561a-6569-49d2-98db-a556c2203966"
      },
      "outputs": [
        {
          "name": "stdout",
          "output_type": "stream",
          "text": [
            "Essa é o array 'a': [1 3 4 5 6 5 7 8]\n",
            "Esse é tipo de 'a': <class 'numpy.ndarray'>\n",
            "-------------------------------------\n",
            "Essa é a 'lista_a': [1, 3, 4, 5, 6, 5, 7, 8]\n",
            "Esse é tipo de 'lista_a': <class 'list'>\n"
          ]
        }
      ],
      "source": [
        "a = np.array([1,3,4,5,6,5,7,8])\n",
        "print(\"Essa é o array 'a':\",a)\n",
        "print(\"Esse é tipo de 'a':\",type(a))\n",
        "print('-------------------------------------')\n",
        "lista_a=[1,3,4,5,6,5,7,8]\n",
        "print(\"Essa é a 'lista_a':\", lista_a)\n",
        "print(\"Esse é tipo de 'lista_a':\",type(lista_a))"
      ]
    },
    {
      "cell_type": "code",
      "execution_count": null,
      "metadata": {
        "id": "liwCeBivOXJ5",
        "outputId": "64797150-fdb5-4d13-8b97-f2424d7ff132"
      },
      "outputs": [
        {
          "name": "stdout",
          "output_type": "stream",
          "text": [
            "['1' 'Daniel' '2' '3' '4' '5' '6' '7' '8']\n",
            "<class 'numpy.str_'>\n"
          ]
        }
      ],
      "source": [
        "#arrays não permitem tipos de dados distintos:\n",
        "a = np.array([1,'Daniel',2,3,4,5,6,7,8])\n",
        "print(a)\n",
        "print(type(a[0]))"
      ]
    },
    {
      "cell_type": "code",
      "execution_count": null,
      "metadata": {
        "id": "05Vt0S3ROXJ5",
        "outputId": "4555e532-c6c5-46e2-c415-7de7411604f3"
      },
      "outputs": [
        {
          "name": "stdout",
          "output_type": "stream",
          "text": [
            "[1 3 4 5 6 5 7 8]\n",
            "<class 'int'>\n"
          ]
        }
      ],
      "source": [
        "#já as listas sim:\n",
        "lista_a = [1,'Daniel',2,3,4,5,6,7,8]\n",
        "print(a)\n",
        "print(type(lista_a[0]))"
      ]
    },
    {
      "cell_type": "markdown",
      "metadata": {
        "id": "0j6RJ7xEOXJ5"
      },
      "source": [
        "## Comparando o processamento:"
      ]
    },
    {
      "cell_type": "code",
      "execution_count": null,
      "metadata": {
        "id": "Ikm31Ey_OXJ5",
        "outputId": "c3f9f77c-2b25-45d0-ddf9-eab448047a88"
      },
      "outputs": [
        {
          "name": "stdout",
          "output_type": "stream",
          "text": [
            "<class 'list'>\n"
          ]
        },
        {
          "ename": "TypeError",
          "evalue": "can't multiply sequence by non-int of type 'list'",
          "output_type": "error",
          "traceback": [
            "\u001b[1;31m---------------------------------------------------------------------------\u001b[0m",
            "\u001b[1;31mTypeError\u001b[0m                                 Traceback (most recent call last)",
            "\u001b[1;32m<ipython-input-28-520a902e403f>\u001b[0m in \u001b[0;36m<module>\u001b[1;34m\u001b[0m\n\u001b[0;32m      3\u001b[0m \u001b[0mprint\u001b[0m\u001b[1;33m(\u001b[0m\u001b[0mtype\u001b[0m\u001b[1;33m(\u001b[0m\u001b[0mlista_a\u001b[0m\u001b[1;33m)\u001b[0m\u001b[1;33m)\u001b[0m\u001b[1;33m\u001b[0m\u001b[1;33m\u001b[0m\u001b[0m\n\u001b[0;32m      4\u001b[0m \u001b[0mlista_b\u001b[0m \u001b[1;33m=\u001b[0m \u001b[0mlist\u001b[0m\u001b[1;33m(\u001b[0m\u001b[0mrng\u001b[0m\u001b[1;33m.\u001b[0m\u001b[0mintegers\u001b[0m\u001b[1;33m(\u001b[0m\u001b[1;36m10\u001b[0m\u001b[1;33m,\u001b[0m \u001b[1;36m100\u001b[0m\u001b[1;33m,\u001b[0m \u001b[1;36m10000000\u001b[0m\u001b[1;33m)\u001b[0m\u001b[1;33m)\u001b[0m\u001b[1;33m\u001b[0m\u001b[1;33m\u001b[0m\u001b[0m\n\u001b[1;32m----> 5\u001b[1;33m \u001b[0mc\u001b[0m \u001b[1;33m=\u001b[0m \u001b[0mlista_a\u001b[0m\u001b[1;33m*\u001b[0m\u001b[0mlista_b\u001b[0m\u001b[1;33m\u001b[0m\u001b[1;33m\u001b[0m\u001b[0m\n\u001b[0m",
            "\u001b[1;31mTypeError\u001b[0m: can't multiply sequence by non-int of type 'list'"
          ]
        }
      ],
      "source": [
        "from time import process_time\n",
        "lista_a = list(rng.integers(10, 100, 10000000))\n",
        "print(type(lista_a))\n",
        "lista_b = list(rng.integers(10, 100, 10000000))\n",
        "c = lista_a*lista_b\n"
      ]
    },
    {
      "cell_type": "code",
      "execution_count": null,
      "metadata": {
        "id": "SU_pRtNzOXJ5",
        "outputId": "89974dd6-fb65-4aab-941d-6d820d0c4c6a"
      },
      "outputs": [
        {
          "name": "stdout",
          "output_type": "stream",
          "text": [
            "<class 'list'>\n",
            "10000000\n"
          ]
        }
      ],
      "source": [
        "print(type(lista_a))\n",
        "print(len(lista_a))"
      ]
    },
    {
      "cell_type": "code",
      "execution_count": null,
      "metadata": {
        "id": "GvJhgEwKOXJ6",
        "outputId": "bf80eaae-b2d7-4735-aaba-f8b35c548ca3"
      },
      "outputs": [
        {
          "name": "stdout",
          "output_type": "stream",
          "text": [
            "2.375\n"
          ]
        }
      ],
      "source": [
        "c=[]\n",
        "t1 = process_time()\n",
        "for i in range(len(lista_a)):\n",
        "    c.append(lista_a[i] * lista_b[i])\n",
        "t2 = process_time()\n",
        "\n",
        "print(t2-t1)\n"
      ]
    },
    {
      "cell_type": "code",
      "execution_count": null,
      "metadata": {
        "id": "PiwDSMxzOXJ6",
        "outputId": "8f56a9fa-bc28-4da6-ac4c-d97445d5b318"
      },
      "outputs": [
        {
          "name": "stdout",
          "output_type": "stream",
          "text": [
            "<class 'numpy.ndarray'>\n",
            "[59 36 80 ... 42 51 72]\n",
            "0.578125\n"
          ]
        }
      ],
      "source": [
        "a = rng.integers(10, 100, 10000000)\n",
        "b = rng.integers(10, 100, 10000000)\n",
        "print(type(a))\n",
        "print(a)\n",
        "t1a=process_time()\n",
        "c=a*b\n",
        "t2a=process_time()\n",
        "print(t2a-t1a)"
      ]
    },
    {
      "cell_type": "code",
      "execution_count": null,
      "metadata": {
        "id": "u6se9CcyOXJ6",
        "outputId": "491deb91-7cac-41da-a3c6-7be32b164d3b"
      },
      "outputs": [
        {
          "data": {
            "image/png": "[encoded data removed]",
            "text/plain": [
              "<Figure size 432x288 with 1 Axes>"
            ]
          },
          "metadata": {
            "needs_background": "light"
          },
          "output_type": "display_data"
        }
      ],
      "source": [
        "import matplotlib.pyplot as plt\n",
        "\n",
        "dados_x = rng.integers(20, size = 30)\n",
        "dados_y = rng.integers(12, size = 30)\n",
        "\n",
        "plt.scatter(x = dados_x, y = dados_y)\n",
        "plt.show()\n"
      ]
    }
  ],
  "metadata": {
    "kernelspec": {
      "display_name": "Python 3",
      "language": "python",
      "name": "python3"
    },
    "language_info": {
      "codemirror_mode": {
        "name": "ipython",
        "version": 3
      },
      "file_extension": ".py",
      "mimetype": "text/x-python",
      "name": "python",
      "nbconvert_exporter": "python",
      "pygments_lexer": "ipython3",
      "version": "3.8.3"
    },
    "colab": {
      "provenance": [],
      "include_colab_link": true
    }
  },
  "nbformat": 4,
  "nbformat_minor": 0
}