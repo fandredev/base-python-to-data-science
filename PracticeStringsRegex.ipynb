{
  "nbformat": 4,
  "nbformat_minor": 0,
  "metadata": {
    "colab": {
      "provenance": [],
      "authorship_tag": "ABX9TyPrP8A/4tK5ir9Z7A//LLu/",
      "include_colab_link": true
    },
    "kernelspec": {
      "name": "python3",
      "display_name": "Python 3"
    },
    "language_info": {
      "name": "python"
    }
  },
  "cells": [
    {
      "cell_type": "markdown",
      "metadata": {
        "id": "view-in-github",
        "colab_type": "text"
      },
      "source": [
        "<a href=\"https://colab.research.google.com/github/fandredev/base-python-to-data-science/blob/main/PracticeStringsRegex.ipynb\" target=\"_parent\"><img src=\"https://colab.research.google.com/assets/colab-badge.svg\" alt=\"Open In Colab\"/></a>"
      ]
    },
    {
      "cell_type": "markdown",
      "source": [
        "Victor trabalha em um sistema de e-commerce e precisa organizar os nomes dos produtos que estão sendo cadastrados pelos lojistas. Esses nomes geralmente vêm com letras misturadas entre maiúsculas e minúsculas, além de espaços desnecessários no início e no final.\n",
        "\n",
        "Ajude Victor a criar um programa que receba um nome de produto e o padronize, deixando todas as letras minúsculas e removendo os espaços extras.\n",
        "\n",
        "Exemplo de Entrada:\n",
        "\n",
        "```\n",
        "Digite o nome do produto: ChocoLAte Branco\n",
        "```\n",
        "Saída esperada:\n",
        "\n",
        "\n",
        "```\n",
        "chocolate branco\n",
        "```"
      ],
      "metadata": {
        "id": "cJTDEH_axJe0"
      }
    },
    {
      "cell_type": "code",
      "execution_count": 1,
      "metadata": {
        "colab": {
          "base_uri": "https://localhost:8080/"
        },
        "id": "Bg3WPcovvber",
        "outputId": "c63b7d82-6ed4-4cd2-e83f-68cab5a82995"
      },
      "outputs": [
        {
          "output_type": "stream",
          "name": "stdout",
          "text": [
            "Digite o nome do produto: chooclate branCO\n",
            "chooclate branco\n"
          ]
        }
      ],
      "source": [
        "product = input('Digite o nome do produto: ')\n",
        "\n",
        "print(\n",
        "    product.lower().strip()\n",
        ")"
      ]
    },
    {
      "cell_type": "markdown",
      "source": [
        "Rafaela trabalha na área de marketing e quer criar mensagens personalizadas para os clientes. Ela precisa de um programa que permita exibir saudações baseadas no nome do cliente e na cidade onde ele mora.\n",
        "\n",
        "Crie um programa que solicite o nome e a cidade de um cliente e exiba uma mensagem de boas-vindas personalizada.\n",
        "\n",
        "Exemplo de Entrada:\n",
        "\n",
        "```\n",
        "Digite o nome do cliente: Laura\n",
        "Digite a cidade do cliente: Rio de Janeiro\n",
        "```\n",
        "Saída esperada:\n",
        "\n",
        "```\n",
        "Olá, Laura! Bem-vinda ao sistema da cidade de Rio de Janeiro.\n",
        "```"
      ],
      "metadata": {
        "id": "fByaPe0Fxn-X"
      }
    },
    {
      "cell_type": "code",
      "source": [
        "client_name = input('Digite o nome do cliente: ').strip().trim()\n",
        "client_city = input('Digite a cidade do cliente: ').strip().trim()\n",
        "\n",
        "\n",
        "expected_output = f'Olá {client_name}! Bem-vinda ao sistema da cidade de {client_city}'\n",
        "print(expected_output)"
      ],
      "metadata": {
        "colab": {
          "base_uri": "https://localhost:8080/"
        },
        "id": "ZEy5j6d2xvDQ",
        "outputId": "cd6595b1-36dc-4c9f-a5e4-1a3e528202b5"
      },
      "execution_count": 3,
      "outputs": [
        {
          "output_type": "stream",
          "name": "stdout",
          "text": [
            "Digite o nome do cliente: Felipe\n",
            "Digite a cidade do cliente: Rio de Janeiro\n",
            "Olá Felipe! Bem-vinda ao sistema da cidade de Rio de Janeiro\n"
          ]
        }
      ]
    },
    {
      "cell_type": "markdown",
      "source": [
        "Imagine que você precisa criar uma funcionalidade para um jogo, onde os jogadores recebem dicas baseadas em partes específicas de uma palavra-chave. Sua missão é desenvolver um programa que extraia trechos importantes de qualquer palavra digitada.\n",
        "\n",
        "Escreva um programa que solicite ao usuário uma palavra e exiba as três primeiras e as três últimas letras.\n",
        "\n",
        "Exemplo de Entrada:\n",
        "\n",
        "```\n",
        "Digite a palavra-chave: Misterioso\n",
        "```\n",
        "Saída esperada:\n",
        "\n",
        "```\n",
        "Primeiras: Mis\n",
        "Últimas: oso\n",
        "```"
      ],
      "metadata": {
        "id": "iLDVCAMVyJ-y"
      }
    },
    {
      "cell_type": "code",
      "source": [
        "word = input('Digite a palavra-chave: ').strip().trim()\n",
        "\n",
        "expected_output = f\"\"\"\n",
        "Primeiras: {word[:3]}\n",
        "Ùltimas: {word[-3:]}\n",
        "\"\"\"\n",
        "\n",
        "print(expected_output)"
      ],
      "metadata": {
        "colab": {
          "base_uri": "https://localhost:8080/"
        },
        "id": "qb6A84gOyxNX",
        "outputId": "d5ec0762-7a30-4c33-8450-d6eae0e56705"
      },
      "execution_count": 21,
      "outputs": [
        {
          "output_type": "stream",
          "name": "stdout",
          "text": [
            "Digite a palavra-chave: Ovelha\n",
            "\n",
            "Primeiras: Ove \n",
            "Ùltimas: lha\n",
            "\n"
          ]
        }
      ]
    },
    {
      "cell_type": "markdown",
      "source": [
        "Renan está desenvolvendo um sistema que verifica se os links de sites parceiros começam com https:// e terminam com .com. Esses critérios são obrigatórios para que o site seja aprovado no cadastro. Ajude Renan a criar um programa que realize essa validação de forma automática.\n",
        "\n",
        "Como você escreveria um programa que peça ao usuário uma URL e informe se ela é válida ou inválida?\n",
        "\n",
        "Exemplo de Entrada:\n",
        "```\n",
        "Digite a URL para validação: https://monitorrenan.com\n",
        "\n",
        "```\n",
        "Saída esperada:\n",
        "\n",
        "```\n",
        "URL válida!\n",
        "```\n"
      ],
      "metadata": {
        "id": "4ZtvLk8t0TbG"
      }
    },
    {
      "cell_type": "code",
      "source": [
        "url = input('Digite a URL para válidação: ').strip().trim()\n",
        "\n",
        "if url.startswith('http://'):\n",
        "  print(\"Sites com \\'http' são inseguros\")\n",
        "elif url.startswith('https://') and url.endswith('.com'):\n",
        "  print('URL válida')\n",
        "else:\n",
        "  print('URL inválida')"
      ],
      "metadata": {
        "colab": {
          "base_uri": "https://localhost:8080/"
        },
        "id": "MzWMg0k00wce",
        "outputId": "255b2490-4a8f-4c35-843b-9a2537e67756"
      },
      "execution_count": 26,
      "outputs": [
        {
          "output_type": "stream",
          "name": "stdout",
          "text": [
            "Digite a URL para válidação: http://.coog.br\n",
            "Sites com 'http' são inseguros\n"
          ]
        }
      ]
    },
    {
      "cell_type": "markdown",
      "source": [
        "João é atendente em uma farmácia e precisa verificar se um cliente forneceu um número de receita válido em uma descrição. O número da receita é sempre o único número presente no texto fornecido pelo cliente. Ele quer um programa que extraia esse número diretamente e confirme se o texto está correto, sem a necessidade de trabalhar com listas ou loops.\n",
        "\n",
        "Com base nesse cenário, crie um programa que receba um texto com uma descrição e exiba uma mensagem com o número encontrado.\n",
        "\n",
        "Exemplo de Entrada:\n",
        "\n",
        "```\n",
        "Digite a descrição da receita: A receita 1087568 foi enviada pelo cliente.\n",
        "```\n",
        "Saída esperada:\n",
        "```\n",
        "O número da receita é: 1087568\n",
        "```\n"
      ],
      "metadata": {
        "id": "Q4PJs27-1bhf"
      }
    },
    {
      "cell_type": "code",
      "source": [
        "import re\n",
        "\n",
        "# A receita 1087568 foi enviada pelo cliente.\n",
        "desc = input('Digite a descrição da receita: ')\n",
        "\n",
        "filter_number_receita = re.findall(r'\\d+', desc)\n",
        "\n",
        "if len(filter_number_receita) > 0:\n",
        "  print(\n",
        "      f'O número da receita é: {filter_number_receita[0]}'\n",
        "  )\n",
        "else:\n",
        "  print('Não foi possível saber o número da receita')\n"
      ],
      "metadata": {
        "colab": {
          "base_uri": "https://localhost:8080/"
        },
        "id": "EiB89g0b11jz",
        "outputId": "211fbbf5-b6cf-4e03-e33c-50fd7ba7cf06"
      },
      "execution_count": 31,
      "outputs": [
        {
          "output_type": "stream",
          "name": "stdout",
          "text": [
            "Digite a descrição da receita: A receita 1087568 foi enviada pelo cliente.\n",
            "O número da receita é: 1087568\n"
          ]
        }
      ]
    },
    {
      "cell_type": "markdown",
      "source": [
        "Nathalia é uma escritora que está revisando um texto para publicação. Durante o processo, ela percebeu que usou a palavra \"bom\" repetidamente, quando queria expressar algo mais forte, como \"ótimo\". Para economizar tempo, Nathalia quer substituir automaticamente todas as ocorrências da palavra \"bom\" por \"ótimo\" no texto.\n",
        "\n",
        "Ajude Nathalia a criar um programa que solicite um texto, a palavra que será substituída e a nova palavra. O programa deve exibir o texto com as alterações aplicadas.\n",
        "\n",
        "Exemplo de Entrada:\n",
        "```\n",
        "Digite o texto a ser revisado: O dia está bom, tudo está bom.`\n",
        "Qual palavra deseja substituir? bom\n",
        "Qual a nova palavra? ótimo\n",
        "```\n",
        "Saída esperada:\n",
        "\n",
        "```\n",
        "O dia está ótimo, tudo está ótimo.```"
      ],
      "metadata": {
        "id": "oVIwcpwM3XCn"
      }
    },
    {
      "cell_type": "code",
      "source": [
        "text_to_be_reviewed = input('Digite o texto a ser revisado: ').strip().trim()\n",
        "which_word_replaced = input('Qual palavra deseja substituir? ').strip().trim()\n",
        "which_new_word = input('Qual a nova palavra? ').strip().trim()\n",
        "\n",
        "formatted_text = f'{text_to_be_reviewed.replace(which_word_replaced, which_new_word)}'\n",
        "\n",
        "print(formatted_text)"
      ],
      "metadata": {
        "colab": {
          "base_uri": "https://localhost:8080/"
        },
        "id": "-4EouUi03fJ-",
        "outputId": "2125dc11-ccfc-41ad-fbc8-a86cd75bdf36"
      },
      "execution_count": 32,
      "outputs": [
        {
          "output_type": "stream",
          "name": "stdout",
          "text": [
            "Digite o texto a ser revisado: Olá, Eu amo chocolate\n",
            "Qual palavra deseja substituir? chocolate\n",
            "Qual a nova palavra? mel\n",
            "Olá, Eu amo mel\n"
          ]
        }
      ]
    },
    {
      "cell_type": "markdown",
      "source": [
        "Lorena trabalha no setor de cadastros de uma empresa e precisa garantir que os nomes inseridos pelos clientes estejam no formato correto. O padrão esperado é que os nomes comecem com uma letra maiúscula e contenham apenas letras (sem números ou caracteres especiais). Para facilitar o trabalho, ela quer um programa que valide automaticamente os nomes fornecidos.\n",
        "\n",
        "Ajude a Lorena criando um programa que solicite um nome ao usuário e verifique se ele atende às regras.\n",
        "\n",
        "Exemplo de Entrada:\n",
        "```\n",
        "Digite o nome do cliente para validação: maria123\n",
        "```\n",
        "Saída esperada:\n",
        "```\n",
        "Nome inválido!\n",
        "```\n",
        "\n",
        "\n"
      ],
      "metadata": {
        "id": "De0xWdUj4jKg"
      }
    },
    {
      "cell_type": "code",
      "source": [
        "import re\n",
        "\n",
        "new_client_name = input('Digite o nome do cliente para validação (Primeira letra deve ser maiscula e não poe conter númerosa): ')\n",
        "\n",
        "only_text = re.match(\"^[a-zA-Z ]*$\", new_client_name)\n",
        "\n",
        "upper_string = new_client_name and new_client_name[0].isupper()\n",
        "\n",
        "if only_text and upper_string:\n",
        "    print('Nome válido')\n",
        "else:\n",
        "    print('Nome inválido')\n"
      ],
      "metadata": {
        "colab": {
          "base_uri": "https://localhost:8080/"
        },
        "id": "cKQHp-2D4oIK",
        "outputId": "c4f9687f-e380-4dbb-fc79-7b71385ed316"
      },
      "execution_count": 55,
      "outputs": [
        {
          "output_type": "stream",
          "name": "stdout",
          "text": [
            "Digite o nome do cliente para validação (Primeira letra deve ser maiscula e não poe conter númerosa): Maria\n",
            "Nome válido\n"
          ]
        }
      ]
    },
    {
      "cell_type": "markdown",
      "source": [
        "Sara trabalha no setor de atendimento de uma empresa e precisa verificar rapidamente se os clientes estão digitando seus números de CPF no formato correto antes de registrar os dados no sistema.\n",
        "\n",
        "O formato esperado do CPF é: três blocos de 3 dígitos separados por pontos (.), seguidos por um bloco de 2 dígitos separados por um traço (-).\n",
        "\n",
        "Ajude Sara a criar um programa que solicite o CPF de um cliente e verifica se ele está no formato correto.\n",
        "\n",
        "Exemplo de Entrada:\n",
        "```\n",
        "Digite o CPF no formato XXX.XXX.XXX-XX: 123.456.789-00\n",
        "```\n",
        "\n",
        "Saída esperada:\n",
        "```\n",
        "O CPF está no formato correto.\n",
        "```"
      ],
      "metadata": {
        "id": "pLfJr-AQ7iF-"
      }
    },
    {
      "cell_type": "code",
      "source": [
        "import re\n",
        "\n",
        "\n",
        "cpf = input('Digite o CPF no formato XXX.XXX.XXX-XX: 123.456.789-00: ')\n",
        "\n",
        "validate_cpf = re.match(r'^\\d{3}\\.\\d{3}\\.\\d{3}-\\d{2}$', cpf)\n",
        "\n",
        "if validate_cpf:\n",
        "  print('Formato de CPF válido')\n",
        "else:\n",
        "  print('Formato de CPF inválido')\n"
      ],
      "metadata": {
        "colab": {
          "base_uri": "https://localhost:8080/"
        },
        "id": "jEptJMyE7q6i",
        "outputId": "bd7d7771-0a13-44df-f15a-0137be13050d"
      },
      "execution_count": 70,
      "outputs": [
        {
          "output_type": "stream",
          "name": "stdout",
          "text": [
            "Digite o CPF no formato XXX.XXX.XXX-XX: 123.456.789-00: 1313\n",
            "Formato de CPF inválido\n"
          ]
        }
      ]
    },
    {
      "cell_type": "markdown",
      "source": [
        "Você trabalha em uma biblioteca e está organizando os títulos de livros no sistema. Você precisa identificar todos os títulos que possuem palavras iniciadas por uma determinada letra, para criar coleções temáticas baseadas em letras específicas. Por exemplo, você poderia usar isso para agrupar livros com palavras que começam com a mesma letra, ajudando na organização ou em campanhas como “Livros com A para você!”.\n",
        "\n",
        "Como você criaria um programa que solicita um texto e uma letra inicial e retorna todas as palavras do texto que começam com essa letra?\n",
        "\n",
        "Exemplo de Entrada:\n",
        "\n",
        "```\n",
        "Digite o título dos livro: As Aventuras de Alice no País das Maravilhas Digite a letra inicial para pesquisa: A\n",
        "```\n",
        "Saída esperada:\n",
        "```\n",
        "[\"As\", \"Aventuras\", \"Alice\"]\n",
        "```"
      ],
      "metadata": {
        "id": "K52_UcDS909b"
      }
    },
    {
      "cell_type": "code",
      "source": [
        "book_title = input('Digite o título dos livros: ')\n",
        "letter_for_search = input('Digite a letra inicial para pesquisa: ').strip()\n",
        "\n",
        "if len(letter_for_search) != 1:\n",
        "    print('Digite apenas uma letra inicial para pesquisa.')\n",
        "else:\n",
        "    splited = book_title.split(' ')\n",
        "\n",
        "    filter_list_splited = filter(lambda word: word.lower().startswith(letter_for_search.lower()), splited)\n",
        "\n",
        "    filter_list_splited = list(filter_list_splited)\n",
        "\n",
        "    print(filter_list_splited if len(filter_list_splited) > 0 else 'Nenhum item encontrado.')\n"
      ],
      "metadata": {
        "colab": {
          "base_uri": "https://localhost:8080/"
        },
        "id": "g2onUa6U-VbC",
        "outputId": "0f1a062d-d1a0-46d6-a9cb-00ba0a027e56"
      },
      "execution_count": 82,
      "outputs": [
        {
          "output_type": "stream",
          "name": "stdout",
          "text": [
            "Digite o título dos livros: A A\n",
            "Digite a letra inicial para pesquisa: P\n",
            "Nenhum item encontrado.\n"
          ]
        }
      ]
    }
  ]
}